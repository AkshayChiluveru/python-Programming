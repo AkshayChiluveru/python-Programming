{
 "cells": [
  {
   "cell_type": "markdown",
   "id": "e4ae46ac",
   "metadata": {},
   "source": [
    "## Implementation of Linked List (Insertion)"
   ]
  },
  {
   "cell_type": "code",
   "execution_count": 1,
   "id": "30655089",
   "metadata": {},
   "outputs": [
    {
     "name": "stdout",
     "output_type": "stream",
     "text": [
      "50, 10, 20, 30, 40, None\n",
      "200, 50, 10, 20, 30, 40, None\n",
      "200, 50, 10, 100, 20, 30, 40, None\n",
      "200, 50, 10, 100, 20, 30, 40, 150, None\n"
     ]
    }
   ],
   "source": [
    "class linkedList:\n",
    "    def __init__(self,data):\n",
    "        self.data = data\n",
    "        self.next = None\n",
    "\n",
    "def traversal(head):\n",
    "    while head is not None:\n",
    "        print(str(head.data)+\",\" ,end = \" \")\n",
    "        head =  head.next\n",
    "    print(\"None\")\n",
    "    \n",
    "def insertion_at_beg(head,data):\n",
    "    newNode = linkedList(data)\n",
    "    newNode.next = head\n",
    "    head = newNode\n",
    "    return head\n",
    "\n",
    "def insertion_at_pos(head,data,pos):\n",
    "    prev = None\n",
    "    curr = head\n",
    "    i = 0\n",
    "    while i<pos is not None:\n",
    "        prev = curr\n",
    "        curr = curr.next\n",
    "        i = i+1\n",
    "    newNode = linkedList(data)\n",
    "    prev.next = newNode\n",
    "    newNode.next = curr\n",
    "    return head\n",
    "    \n",
    "def insertion_at_end(head,data):\n",
    "    curr = head\n",
    "    while curr.next is not None:\n",
    "        curr = curr.next\n",
    "    newNode = linkedList(data)\n",
    "    curr.next = newNode\n",
    "    return head\n",
    "    \n",
    "    \n",
    "x1 = linkedList(10)\n",
    "x2 = linkedList(20)\n",
    "x3 = linkedList(30)\n",
    "x4 = linkedList(40)\n",
    "x5 = linkedList(50)\n",
    "x5.next = x1\n",
    "x1.next = x2\n",
    "x2.next = x3\n",
    "x3.next = x4\n",
    "traversal(x5)\n",
    "a = insertion_at_beg(x5,200)\n",
    "traversal(a)\n",
    "b = insertion_at_pos(a,100,3)\n",
    "traversal(b)\n",
    "c = insertion_at_end(b,150)\n",
    "traversal(c)"
   ]
  },
  {
   "cell_type": "code",
   "execution_count": null,
   "id": "da379932",
   "metadata": {},
   "outputs": [],
   "source": []
  }
 ],
 "metadata": {
  "kernelspec": {
   "display_name": "Python 3 (ipykernel)",
   "language": "python",
   "name": "python3"
  },
  "language_info": {
   "codemirror_mode": {
    "name": "ipython",
    "version": 3
   },
   "file_extension": ".py",
   "mimetype": "text/x-python",
   "name": "python",
   "nbconvert_exporter": "python",
   "pygments_lexer": "ipython3",
   "version": "3.9.13"
  }
 },
 "nbformat": 4,
 "nbformat_minor": 5
}
